{
 "cells": [
  {
   "cell_type": "code",
   "execution_count": 2,
   "metadata": {},
   "outputs": [
    {
     "data": {
      "text/html": [
       "<div>\n",
       "<style scoped>\n",
       "    .dataframe tbody tr th:only-of-type {\n",
       "        vertical-align: middle;\n",
       "    }\n",
       "\n",
       "    .dataframe tbody tr th {\n",
       "        vertical-align: top;\n",
       "    }\n",
       "\n",
       "    .dataframe thead th {\n",
       "        text-align: right;\n",
       "    }\n",
       "</style>\n",
       "<table border=\"1\" class=\"dataframe\">\n",
       "  <thead>\n",
       "    <tr style=\"text-align: right;\">\n",
       "      <th></th>\n",
       "      <th>Mouse ID</th>\n",
       "      <th>Drug Regimen</th>\n",
       "      <th>Sex</th>\n",
       "      <th>Age_months</th>\n",
       "      <th>Weight (g)</th>\n",
       "    </tr>\n",
       "  </thead>\n",
       "  <tbody>\n",
       "    <tr>\n",
       "      <th>0</th>\n",
       "      <td>k403</td>\n",
       "      <td>Ramicane</td>\n",
       "      <td>Male</td>\n",
       "      <td>21</td>\n",
       "      <td>16</td>\n",
       "    </tr>\n",
       "    <tr>\n",
       "      <th>1</th>\n",
       "      <td>s185</td>\n",
       "      <td>Capomulin</td>\n",
       "      <td>Female</td>\n",
       "      <td>3</td>\n",
       "      <td>17</td>\n",
       "    </tr>\n",
       "    <tr>\n",
       "      <th>2</th>\n",
       "      <td>x401</td>\n",
       "      <td>Capomulin</td>\n",
       "      <td>Female</td>\n",
       "      <td>16</td>\n",
       "      <td>15</td>\n",
       "    </tr>\n",
       "    <tr>\n",
       "      <th>3</th>\n",
       "      <td>m601</td>\n",
       "      <td>Capomulin</td>\n",
       "      <td>Male</td>\n",
       "      <td>22</td>\n",
       "      <td>17</td>\n",
       "    </tr>\n",
       "    <tr>\n",
       "      <th>4</th>\n",
       "      <td>g791</td>\n",
       "      <td>Ramicane</td>\n",
       "      <td>Male</td>\n",
       "      <td>11</td>\n",
       "      <td>16</td>\n",
       "    </tr>\n",
       "  </tbody>\n",
       "</table>\n",
       "</div>"
      ],
      "text/plain": [
       "  Mouse ID Drug Regimen     Sex  Age_months  Weight (g)\n",
       "0     k403     Ramicane    Male          21          16\n",
       "1     s185    Capomulin  Female           3          17\n",
       "2     x401    Capomulin  Female          16          15\n",
       "3     m601    Capomulin    Male          22          17\n",
       "4     g791     Ramicane    Male          11          16"
      ]
     },
     "execution_count": 2,
     "metadata": {},
     "output_type": "execute_result"
    }
   ],
   "source": [
    "# Import csv dataset.\n",
    "import pandas as pd\n",
    "import csv as csv\n",
    "import numpy as np\n",
    "import matplotlib.pyplot as plt\n",
    "from scipy import stats\n",
    "\n",
    "# Import the datasets\n",
    "study_df = pd.read_csv(r\"C:\\Users\\mitch\\Desktop\\Analytical BootCamp\\HOMEWORK\\HW5 - Matplotlib\\Study_results.csv\")\n",
    "study_df.head()\n",
    "meta_df = pd.read_csv(r\"C:\\Users\\mitch\\Desktop\\Analytical BootCamp\\HOMEWORK\\HW5 - Matplotlib\\Mouse_metadata.csv\")\n",
    "meta_df.head()\n",
    "\n"
   ]
  },
  {
   "cell_type": "code",
   "execution_count": 3,
   "metadata": {},
   "outputs": [
    {
     "name": "stdout",
     "output_type": "stream",
     "text": [
      "1893\n",
      "1888\n",
      "1893\n",
      "1893\n"
     ]
    },
    {
     "data": {
      "text/plain": [
       "array(['Infubinol', 'Placebo', 'Ceftamin', 'Stelasyn', 'Zoniferol',\n",
       "       'Ramicane', 'Ketapril', 'Propriva', 'Naftisol', 'Capomulin'],\n",
       "      dtype=object)"
      ]
     },
     "execution_count": 3,
     "metadata": {},
     "output_type": "execute_result"
    }
   ],
   "source": [
    "#1 Clean the data by removing duplicate timepoints.\n",
    "clean_study0 = study_df[['Mouse ID','Timepoint']]\n",
    "print(len(clean_study0))\n",
    "clean_study1 = clean_study0.drop_duplicates()\n",
    "print(len(clean_study1))\n",
    "\n",
    "merge_study_df0 = pd.merge(clean_study1 , study_df, on= ['Mouse ID','Timepoint'], how='left', indicator='indicator')\n",
    "print(len(merge_study_df0))\n",
    "merge_study_df0.head()\n",
    "merge_study_df = pd.merge(merge_study_df0 , meta_df, on= 'Mouse ID', how='left')\n",
    "print(len(merge_study_df))\n",
    "merge_study_df.head()\n",
    "\n",
    "# Find the unique drug types\n",
    "drug_types = merge_study_df['Drug Regimen'].unique()\n",
    "drug_types\n",
    "\n"
   ]
  },
  {
   "cell_type": "code",
   "execution_count": 4,
   "metadata": {},
   "outputs": [
    {
     "name": "stdout",
     "output_type": "stream",
     "text": [
      "These are summary statistics for the drug Infubinol\n",
      "        Timepoint  Tumor Volume (mm3)  Metastatic Sites  Unnamed: 4  \\\n",
      "count  178.000000          178.000000        178.000000         0.0   \n",
      "mean    18.174157           52.884795          0.960674         NaN   \n",
      "std     13.473473            6.567243          1.027104         NaN   \n",
      "min      0.000000           36.321346          0.000000         NaN   \n",
      "25%      5.000000           47.312353          0.000000         NaN   \n",
      "50%     15.000000           51.820584          1.000000         NaN   \n",
      "75%     30.000000           57.314444          2.000000         NaN   \n",
      "max     45.000000           72.226731          4.000000         NaN   \n",
      "\n",
      "       Age_months  Weight (g)  \n",
      "count  178.000000  178.000000  \n",
      "mean    16.230337   27.196629  \n",
      "std      7.510278    2.183810  \n",
      "min      1.000000   23.000000  \n",
      "25%      8.000000   25.000000  \n",
      "50%     20.000000   27.000000  \n",
      "75%     23.000000   29.000000  \n",
      "max     24.000000   30.000000  \n",
      "These are summary statistics for the drug Placebo\n",
      "        Timepoint  Tumor Volume (mm3)  Metastatic Sites  Unnamed: 4  \\\n",
      "count  181.000000          181.000000        181.000000         0.0   \n",
      "mean    18.674033           54.033581          1.441989         NaN   \n",
      "std     13.890798            7.821003          1.338824         NaN   \n",
      "min      0.000000           45.000000          0.000000         NaN   \n",
      "25%      5.000000           47.459053          0.000000         NaN   \n",
      "50%     15.000000           52.288934          1.000000         NaN   \n",
      "75%     30.000000           59.916934          2.000000         NaN   \n",
      "max     45.000000           73.212939          4.000000         NaN   \n",
      "\n",
      "       Age_months  Weight (g)  \n",
      "count  181.000000  181.000000  \n",
      "mean    10.734807   27.928177  \n",
      "std      6.354907    1.837973  \n",
      "min      1.000000   25.000000  \n",
      "25%      5.000000   27.000000  \n",
      "50%     10.000000   28.000000  \n",
      "75%     17.000000   30.000000  \n",
      "max     21.000000   30.000000  \n",
      "These are summary statistics for the drug Ceftamin\n",
      "        Timepoint  Tumor Volume (mm3)  Metastatic Sites  Unnamed: 4  \\\n",
      "count  178.000000          178.000000        178.000000         0.0   \n",
      "mean    19.747191           52.591172          1.179775         NaN   \n",
      "std     14.283969            6.268188          1.184283         NaN   \n",
      "min      0.000000           45.000000          0.000000         NaN   \n",
      "25%      5.000000           47.208427          0.000000         NaN   \n",
      "50%     20.000000           51.776157          1.000000         NaN   \n",
      "75%     30.000000           56.801438          2.000000         NaN   \n",
      "max     45.000000           68.923185          4.000000         NaN   \n",
      "\n",
      "       Age_months  Weight (g)  \n",
      "count  178.000000  178.000000  \n",
      "mean    13.247191   27.398876  \n",
      "std      8.071406    1.581460  \n",
      "min      2.000000   25.000000  \n",
      "25%      6.000000   26.000000  \n",
      "50%     12.000000   28.000000  \n",
      "75%     20.000000   28.000000  \n",
      "max     24.000000   30.000000  \n",
      "These are summary statistics for the drug Stelasyn\n",
      "        Timepoint  Tumor Volume (mm3)  Metastatic Sites  Unnamed: 4  \\\n",
      "count  181.000000          181.000000        181.000000         0.0   \n",
      "mean    19.226519           54.233149          0.872928         NaN   \n",
      "std     13.842710            7.710419          0.972046         NaN   \n",
      "min      0.000000           45.000000          0.000000         NaN   \n",
      "25%      5.000000           48.047139          0.000000         NaN   \n",
      "50%     20.000000           52.431737          1.000000         NaN   \n",
      "75%     30.000000           58.719297          1.000000         NaN   \n",
      "max     45.000000           75.123690          4.000000         NaN   \n",
      "\n",
      "       Age_months  Weight (g)  \n",
      "count  181.000000  181.000000  \n",
      "mean    12.784530   27.856354  \n",
      "std      7.939562    1.643616  \n",
      "min      1.000000   25.000000  \n",
      "25%      4.000000   27.000000  \n",
      "50%     14.000000   28.000000  \n",
      "75%     21.000000   29.000000  \n",
      "max     23.000000   30.000000  \n",
      "These are summary statistics for the drug Zoniferol\n",
      "        Timepoint  Tumor Volume (mm3)  Metastatic Sites  Unnamed: 4  \\\n",
      "count  182.000000          182.000000        182.000000         0.0   \n",
      "mean    19.368132           53.236507          1.230769         NaN   \n",
      "std     14.384679            6.966589          1.248884         NaN   \n",
      "min      0.000000           45.000000          0.000000         NaN   \n",
      "25%      5.000000           47.337876          0.000000         NaN   \n",
      "50%     15.000000           51.818479          1.000000         NaN   \n",
      "75%     30.000000           57.954259          2.000000         NaN   \n",
      "max     45.000000           73.324432          4.000000         NaN   \n",
      "\n",
      "       Age_months  Weight (g)  \n",
      "count  182.000000  182.000000  \n",
      "mean    12.598901   27.692308  \n",
      "std      5.786114    1.419612  \n",
      "min      2.000000   25.000000  \n",
      "25%      8.000000   27.000000  \n",
      "50%     12.500000   28.000000  \n",
      "75%     16.000000   29.000000  \n",
      "max     24.000000   30.000000  \n",
      "These are summary statistics for the drug Ramicane\n",
      "        Timepoint  Tumor Volume (mm3)  Metastatic Sites  Unnamed: 4  \\\n",
      "count  228.000000          228.000000        228.000000         0.0   \n",
      "mean    21.425439           40.216745          0.548246         NaN   \n",
      "std     14.275720            4.846308          0.691259         NaN   \n",
      "min      0.000000           22.050126          0.000000         NaN   \n",
      "25%     10.000000           36.674635          0.000000         NaN   \n",
      "50%     20.000000           40.673236          0.000000         NaN   \n",
      "75%     35.000000           45.000000          1.000000         NaN   \n",
      "max     45.000000           47.622816          3.000000         NaN   \n",
      "\n",
      "       Age_months  Weight (g)  \n",
      "count  228.000000  228.000000  \n",
      "mean    10.684211   19.679825  \n",
      "std      5.946629    3.235014  \n",
      "min      1.000000   16.000000  \n",
      "25%      7.000000   17.000000  \n",
      "50%      9.000000   19.000000  \n",
      "75%     18.000000   22.000000  \n",
      "max     23.000000   25.000000  \n",
      "These are summary statistics for the drug Ketapril\n",
      "        Timepoint  Tumor Volume (mm3)  Metastatic Sites  Unnamed: 4  \\\n",
      "count  188.000000          188.000000        188.000000         0.0   \n",
      "mean    19.707447           55.235638          1.297872         NaN   \n",
      "std     14.029935            8.279709          1.393873         NaN   \n",
      "min      0.000000           45.000000          0.000000         NaN   \n",
      "25%      5.000000           48.232987          0.000000         NaN   \n",
      "50%     20.000000           53.698743          1.000000         NaN   \n",
      "75%     30.000000           60.870951          2.000000         NaN   \n",
      "max     45.000000           78.567014          4.000000         NaN   \n",
      "\n",
      "       Age_months  Weight (g)  \n",
      "count  188.000000  188.000000  \n",
      "mean    15.659574   27.861702  \n",
      "std      6.019670    1.841884  \n",
      "min      1.000000   25.000000  \n",
      "25%     11.750000   26.000000  \n",
      "50%     18.000000   28.000000  \n",
      "75%     19.000000   30.000000  \n",
      "max     24.000000   30.000000  \n",
      "These are summary statistics for the drug Propriva\n",
      "        Timepoint  Tumor Volume (mm3)  Metastatic Sites  Unnamed: 4  \\\n",
      "count  161.000000          161.000000        161.000000         0.0   \n",
      "mean    16.863354           52.322552          0.975155         NaN   \n",
      "std     13.472424            6.507770          1.083688         NaN   \n",
      "min      0.000000           45.000000          0.000000         NaN   \n",
      "25%      5.000000           47.081086          0.000000         NaN   \n",
      "50%     15.000000           50.854632          1.000000         NaN   \n",
      "75%     25.000000           56.184664          1.000000         NaN   \n",
      "max     45.000000           72.455421          4.000000         NaN   \n",
      "\n",
      "       Age_months  Weight (g)  \n",
      "count  161.000000  161.000000  \n",
      "mean    10.894410   27.043478  \n",
      "std      7.304624    1.670882  \n",
      "min      1.000000   25.000000  \n",
      "25%      5.000000   26.000000  \n",
      "50%      8.000000   26.000000  \n",
      "75%     21.000000   29.000000  \n",
      "max     24.000000   30.000000  \n",
      "These are summary statistics for the drug Naftisol\n",
      "        Timepoint  Tumor Volume (mm3)  Metastatic Sites  Unnamed: 4  \\\n",
      "count  186.000000          186.000000        186.000000         0.0   \n",
      "mean    19.623656           54.331565          1.182796         NaN   \n",
      "std     14.184814            8.134708          1.216519         NaN   \n",
      "min      0.000000           45.000000          0.000000         NaN   \n",
      "25%      5.000000           47.285874          0.000000         NaN   \n",
      "50%     20.000000           52.509285          1.000000         NaN   \n",
      "75%     30.000000           59.963034          2.000000         NaN   \n",
      "max     45.000000           76.668817          4.000000         NaN   \n",
      "\n",
      "       Age_months  Weight (g)  \n",
      "count  186.000000  186.000000  \n",
      "mean    12.000000   27.166667  \n",
      "std      6.715855    1.499249  \n",
      "min      2.000000   25.000000  \n",
      "25%      8.000000   26.000000  \n",
      "50%      9.000000   27.000000  \n",
      "75%     19.000000   28.000000  \n",
      "max     23.000000   30.000000  \n",
      "These are summary statistics for the drug Capomulin\n",
      "        Timepoint  Tumor Volume (mm3)  Metastatic Sites  Unnamed: 4  \\\n",
      "count  230.000000          230.000000        230.000000         0.0   \n",
      "mean    21.565217           40.675741          0.713043         NaN   \n",
      "std     14.384994            4.994774          0.848993         NaN   \n",
      "min      0.000000           23.343598          0.000000         NaN   \n",
      "25%     10.000000           37.685933          0.000000         NaN   \n",
      "50%     20.000000           41.557809          0.000000         NaN   \n",
      "75%     35.000000           45.000000          1.000000         NaN   \n",
      "max     45.000000           48.158209          3.000000         NaN   \n",
      "\n",
      "       Age_months  Weight (g)  \n",
      "count  230.000000  230.000000  \n",
      "mean    13.456522   19.965217  \n",
      "std      7.721423    2.732404  \n",
      "min      1.000000   15.000000  \n",
      "25%      7.000000   17.000000  \n",
      "50%     16.500000   20.500000  \n",
      "75%     20.000000   22.000000  \n",
      "max     24.000000   25.000000  \n"
     ]
    },
    {
     "data": {
      "text/plain": [
       "Drug Regimen\n",
       "Capomulin    230\n",
       "Ceftamin     178\n",
       "Infubinol    178\n",
       "Ketapril     188\n",
       "Naftisol     186\n",
       "Placebo      181\n",
       "Propriva     161\n",
       "Ramicane     228\n",
       "Stelasyn     181\n",
       "Zoniferol    182\n",
       "Name: Mouse ID, dtype: int64"
      ]
     },
     "execution_count": 4,
     "metadata": {},
     "output_type": "execute_result"
    }
   ],
   "source": [
    "#2 Create summary tables for each drug type.\n",
    "for i in drug_types:\n",
    "    stats = merge_study_df.loc[(merge_study_df[\"Drug Regimen\"] == f\"{i}\")]\n",
    "    print(f\"These are summary statistics for the drug {i}\")\n",
    "    print(stats.describe())\n",
    "\n",
    "# Count the number of mice in each drug type\n",
    "merge_study_grpcount = merge_study_df.groupby('Drug Regimen')['Mouse ID'].count()\n",
    "merge_study_grpcount\n",
    "\n"
   ]
  },
  {
   "cell_type": "code",
   "execution_count": 5,
   "metadata": {},
   "outputs": [
    {
     "data": {
      "text/plain": [
       "Gender\n",
       "Female    935\n",
       "Male      958\n",
       "Name: Mouse ID, dtype: int64"
      ]
     },
     "execution_count": 5,
     "metadata": {},
     "output_type": "execute_result"
    },
    {
     "data": {
      "image/png": "[encoded data removed]",
      "text/plain": [
       "<Figure size 432x288 with 1 Axes>"
      ]
     },
     "metadata": {
      "needs_background": "light"
     },
     "output_type": "display_data"
    }
   ],
   "source": [
    "#3 Create a bar chart with Matplotlib's pyplot.\n",
    "x_axis = np.arange(len(drug_types))\n",
    "tick_locations = [value+0.4 for value in x_axis]\n",
    "tick_locations\n",
    "plt.bar(x_axis, merge_study_grpcount, color='b', alpha=0.5, align=\"edge\")\n",
    "plt.xticks(tick_locations, drug_types, rotation=\"vertical\")\n",
    "plt.title(\"Number of Mice for each Drug Regimen\")\n",
    "plt.xlabel(\"Drug Regimen\")\n",
    "plt.ylabel(\"Number of Mice\")\n",
    "\n",
    "# Prepare data for pie plot.\n",
    "merge_study_df2 = pd.merge(merge_study_df, merge_study_grpcount, on='Drug Regimen', how='left')\n",
    "merge_study_df3 = merge_study_df2.rename(columns= {'Mouse ID_y' : 'Mouse Count' , 'Mouse ID_x' : 'Mouse ID' ,'Sex' : 'Gender'})\n",
    "merge_study_df3\n",
    "\n",
    "# Find the unique genders\n",
    "genders = merge_study_df3['Gender'].unique()\n",
    "genders\n",
    "\n",
    "# Count the number of mice of each gender\n",
    "merge_study_grpcount2 = merge_study_df3.groupby('Gender')['Mouse ID'].count()\n",
    "merge_study_grpcount2\n",
    "\n"
   ]
  },
  {
   "cell_type": "code",
   "execution_count": 6,
   "metadata": {},
   "outputs": [
    {
     "data": {
      "image/png": "[encoded data removed]",
      "text/plain": [
       "<Figure size 432x288 with 1 Axes>"
      ]
     },
     "metadata": {},
     "output_type": "display_data"
    }
   ],
   "source": [
    "# 4 Tell matplotlib to create a pie chart based upon the above data\n",
    "colors = [\"pink\",\"blue\"]\n",
    "plt.axis(\"equal\")\n",
    "plt.pie(merge_study_grpcount2, labels=genders, colors=colors,\n",
    "        autopct=\"%1.1f%%\", shadow=True, startangle=140)\n",
    "\n"
   ]
  },
  {
   "cell_type": "code",
   "execution_count": 7,
   "metadata": {},
   "outputs": [],
   "source": [
    "# 5 Select a mouse, which I did randomly to plot one Mouse’s tumor growth on Capomulin Regimen Over time \n",
    "study_capom0 = merge_study_df3.loc[(merge_study_df3[\"Drug Regimen\"] == \"Capomulin\")]\n",
    "unique_mice = study_capom0[\"Mouse ID\"].unique()\n",
    "unique_mice\n",
    "len_mice = len(unique_mice)\n",
    "import random as rd\n",
    "pick = rd.randrange(0,len_mice)\n",
    "theone = unique_mice[pick]\n",
    "theone\n",
    "\n",
    "study_capom = study_capom0.loc[(study_capom0[\"Mouse ID\"] == f\"{theone}\")]\n",
    "timept = study_capom['Timepoint']\n",
    "volume = study_capom['Tumor Volume (mm3)']\n",
    "\n"
   ]
  },
  {
   "cell_type": "code",
   "execution_count": 8,
   "metadata": {},
   "outputs": [
    {
     "data": {
      "text/plain": [
       "Text(0, 0.5, 'Tumor Volume (mm3)')"
      ]
     },
     "execution_count": 8,
     "metadata": {},
     "output_type": "execute_result"
    },
    {
     "data": {
      "image/png": "[encoded data removed]",
      "text/plain": [
       "<Figure size 432x288 with 1 Axes>"
      ]
     },
     "metadata": {
      "needs_background": "light"
     },
     "output_type": "display_data"
    }
   ],
   "source": [
    "# 6 Create a line plot with the randomly selected mouse to plot one Mouse’s tumor growth on Capomulin Regimen over time\n",
    "plt.plot(timept, volume)\n",
    "plt.title(f\"Tumor Growth of Mouse {theone} on Capomulin over Time\")\n",
    "plt.xlabel(\"Timepoint\")\n",
    "plt.ylabel('Tumor Volume (mm3)')\n"
   ]
  },
  {
   "cell_type": "code",
   "execution_count": 14,
   "metadata": {},
   "outputs": [],
   "source": [
    "# 7 Calculate the average tumor size for each mouse.\n",
    "merge_study_grpmean = merge_study_df3.groupby('Mouse ID')['Tumor Volume (mm3)'].mean()\n",
    "merge_study_grpmean\n",
    "merge_study_df4 = pd.merge(merge_study_df3, merge_study_grpmean, on='Mouse ID', how='left')\n",
    "merge_study_df5 = merge_study_df4.rename(columns= {'Tumor Volume (mm3)_y' : 'Average Tumor Volume' , 'Tumor Volume (mm3)_x' : 'Tumor Volume'})\n",
    "merge_study_df5\n",
    "merge_study_df6 = merge_study_df5[['Mouse ID','Weight (g)','Average Tumor Volume']]\n",
    "merge_study_df7 = merge_study_df6.drop_duplicates()\n"
   ]
  },
  {
   "cell_type": "code",
   "execution_count": 15,
   "metadata": {},
   "outputs": [
    {
     "data": {
      "text/plain": [
       "Text(0, 0.5, 'Average Tumor Volume (mm3)')"
      ]
     },
     "execution_count": 15,
     "metadata": {},
     "output_type": "execute_result"
    },
    {
     "data": {
      "image/png": "[encoded data removed]",
      "text/plain": [
       "<Figure size 432x288 with 1 Axes>"
      ]
     },
     "metadata": {
      "needs_background": "light"
     },
     "output_type": "display_data"
    }
   ],
   "source": [
    "\n",
    "\n",
    "# 7 Generate scatter plot for average tumor size vs. weight for each mouse.\n",
    "weight = merge_study_df7['Weight (g)']\n",
    "tumor_size = merge_study_df7['Average Tumor Volume']\n",
    "\n",
    "plt.scatter(weight , tumor_size, marker=\"o\", facecolors=\"blue\", edgecolors=\"black\")\n",
    "plt.title(\"Mouse Weight vs. Average Tumor Volume\")\n",
    "plt.xlabel(\"Mouse Weight (g)\")\n",
    "plt.ylabel(\"Average Tumor Volume (mm3)\")\n",
    "\n",
    "\n",
    "\n"
   ]
  },
  {
   "cell_type": "code",
   "execution_count": 16,
   "metadata": {},
   "outputs": [
    {
     "ename": "AttributeError",
     "evalue": "'DataFrame' object has no attribute 'linregress'",
     "output_type": "error",
     "traceback": [
      "\u001b[1;31m---------------------------------------------------------------------------\u001b[0m",
      "\u001b[1;31mAttributeError\u001b[0m                            Traceback (most recent call last)",
      "\u001b[1;32m<ipython-input-16-081405c41d60>\u001b[0m in \u001b[0;36m<module>\u001b[1;34m\u001b[0m\n\u001b[0;32m      2\u001b[0m \u001b[1;33m\u001b[0m\u001b[0m\n\u001b[0;32m      3\u001b[0m \u001b[1;31m# 7 Calculate the linear regression line on mouse weight vs tumor size.\u001b[0m\u001b[1;33m\u001b[0m\u001b[1;33m\u001b[0m\u001b[1;33m\u001b[0m\u001b[0m\n\u001b[1;32m----> 4\u001b[1;33m \u001b[0mtv_slope\u001b[0m\u001b[1;33m,\u001b[0m \u001b[0mtv_int\u001b[0m\u001b[1;33m,\u001b[0m \u001b[0mtv_r\u001b[0m\u001b[1;33m,\u001b[0m \u001b[0mtv_p\u001b[0m\u001b[1;33m,\u001b[0m \u001b[0mtv_std_err\u001b[0m \u001b[1;33m=\u001b[0m \u001b[0mstats\u001b[0m\u001b[1;33m.\u001b[0m\u001b[0mlinregress\u001b[0m\u001b[1;33m(\u001b[0m\u001b[0mweight\u001b[0m\u001b[1;33m,\u001b[0m \u001b[0mtumor_size\u001b[0m\u001b[1;33m)\u001b[0m\u001b[1;33m\u001b[0m\u001b[1;33m\u001b[0m\u001b[0m\n\u001b[0m\u001b[0;32m      5\u001b[0m \u001b[0mtv_slope\u001b[0m\u001b[1;33m\u001b[0m\u001b[1;33m\u001b[0m\u001b[0m\n\u001b[0;32m      6\u001b[0m \u001b[1;33m\u001b[0m\u001b[0m\n",
      "\u001b[1;32m~\\anaconda3\\lib\\site-packages\\pandas\\core\\generic.py\u001b[0m in \u001b[0;36m__getattr__\u001b[1;34m(self, name)\u001b[0m\n\u001b[0;32m   5272\u001b[0m             \u001b[1;32mif\u001b[0m \u001b[0mself\u001b[0m\u001b[1;33m.\u001b[0m\u001b[0m_info_axis\u001b[0m\u001b[1;33m.\u001b[0m\u001b[0m_can_hold_identifiers_and_holds_name\u001b[0m\u001b[1;33m(\u001b[0m\u001b[0mname\u001b[0m\u001b[1;33m)\u001b[0m\u001b[1;33m:\u001b[0m\u001b[1;33m\u001b[0m\u001b[1;33m\u001b[0m\u001b[0m\n\u001b[0;32m   5273\u001b[0m                 \u001b[1;32mreturn\u001b[0m \u001b[0mself\u001b[0m\u001b[1;33m[\u001b[0m\u001b[0mname\u001b[0m\u001b[1;33m]\u001b[0m\u001b[1;33m\u001b[0m\u001b[1;33m\u001b[0m\u001b[0m\n\u001b[1;32m-> 5274\u001b[1;33m             \u001b[1;32mreturn\u001b[0m \u001b[0mobject\u001b[0m\u001b[1;33m.\u001b[0m\u001b[0m__getattribute__\u001b[0m\u001b[1;33m(\u001b[0m\u001b[0mself\u001b[0m\u001b[1;33m,\u001b[0m \u001b[0mname\u001b[0m\u001b[1;33m)\u001b[0m\u001b[1;33m\u001b[0m\u001b[1;33m\u001b[0m\u001b[0m\n\u001b[0m\u001b[0;32m   5275\u001b[0m \u001b[1;33m\u001b[0m\u001b[0m\n\u001b[0;32m   5276\u001b[0m     \u001b[1;32mdef\u001b[0m \u001b[0m__setattr__\u001b[0m\u001b[1;33m(\u001b[0m\u001b[0mself\u001b[0m\u001b[1;33m,\u001b[0m \u001b[0mname\u001b[0m\u001b[1;33m:\u001b[0m \u001b[0mstr\u001b[0m\u001b[1;33m,\u001b[0m \u001b[0mvalue\u001b[0m\u001b[1;33m)\u001b[0m \u001b[1;33m->\u001b[0m \u001b[1;32mNone\u001b[0m\u001b[1;33m:\u001b[0m\u001b[1;33m\u001b[0m\u001b[1;33m\u001b[0m\u001b[0m\n",
      "\u001b[1;31mAttributeError\u001b[0m: 'DataFrame' object has no attribute 'linregress'"
     ]
    }
   ],
   "source": [
    "# THIS WORKED AT FIRST, BUT STOPPED WORKING FOR NO APPARENT REASON.\n",
    "\n",
    "# 7 Calculate the linear regression line on mouse weight vs tumor size.\n",
    "tv_slope, tv_int, tv_r, tv_p, tv_std_err = stats.linregress(weight, tumor_size)\n",
    "tv_slope\n",
    "\n",
    "# Create equation of line to calculate predicted tumor size\n",
    "tv_fit = tv_slope * weight + tv_int\n"
   ]
  },
  {
   "cell_type": "code",
   "execution_count": 17,
   "metadata": {},
   "outputs": [
    {
     "ename": "SyntaxError",
     "evalue": "invalid character in identifier (<ipython-input-17-2ea1f1e262d3>, line 7)",
     "output_type": "error",
     "traceback": [
      "\u001b[1;36m  File \u001b[1;32m\"<ipython-input-17-2ea1f1e262d3>\"\u001b[1;36m, line \u001b[1;32m7\u001b[0m\n\u001b[1;33m    \u001b[0m\n\u001b[1;37m    ^\u001b[0m\n\u001b[1;31mSyntaxError\u001b[0m\u001b[1;31m:\u001b[0m invalid character in identifier\n"
     ]
    }
   ],
   "source": [
    "# THIS DOESN'T WORK BECAUSE THE PREVIOUS SECTION DID NOT WORK.\n",
    "\n",
    "# Generate scatter plot with fitted line included.\n",
    "plt.scatter(weight , tumor_size, marker=\"o\", facecolors=\"blue\", edgecolors=\"black\")\n",
    "plt.plot( weight ,tv_fit,\"--\")\n",
    "plt.title(\"Mouse Weight vs. Average Tumor Volume\")\n",
    "plt.xlabel(\"Mouse Weight (g)\")\n",
    "plt.ylabel(\"Average Tumor Volume (mm3)\")\n",
    " \n"
   ]
  },
  {
   "cell_type": "code",
   "execution_count": null,
   "metadata": {},
   "outputs": [],
   "source": []
  }
 ],
 "metadata": {
  "kernelspec": {
   "display_name": "Python 3",
   "language": "python",
   "name": "python3"
  },
  "language_info": {
   "codemirror_mode": {
    "name": "ipython",
    "version": 3
   },
   "file_extension": ".py",
   "mimetype": "text/x-python",
   "name": "python",
   "nbconvert_exporter": "python",
   "pygments_lexer": "ipython3",
   "version": "3.7.6"
  }
 },
 "nbformat": 4,
 "nbformat_minor": 4
}
